{
  "nbformat": 4,
  "nbformat_minor": 0,
  "metadata": {
    "colab": {
      "provenance": []
    },
    "kernelspec": {
      "name": "python3",
      "display_name": "Python 3"
    },
    "language_info": {
      "name": "python"
    }
  },
  "cells": [
    {
      "cell_type": "code",
      "source": [
        "import pandas as pd"
      ],
      "metadata": {
        "id": "rhF-jnOacXBC"
      },
      "execution_count": null,
      "outputs": []
    },
    {
      "cell_type": "code",
      "execution_count": null,
      "metadata": {
        "colab": {
          "base_uri": "https://localhost:8080/"
        },
        "id": "Amtafmz8a-Vp",
        "outputId": "a471bb84-2630-422c-bdfb-b955c2feb4ca"
      },
      "outputs": [
        {
          "output_type": "stream",
          "name": "stdout",
          "text": [
            "        Entity Code  Year  Population, female (% of total population)\n",
            "0  Afghanistan  AFG  1960                                   48.083054\n",
            "1  Afghanistan  AFG  1961                                   48.165000\n",
            "2  Afghanistan  AFG  1962                                   48.242370\n",
            "3  Afghanistan  AFG  1963                                   48.315890\n",
            "4  Afghanistan  AFG  1964                                   48.385273\n"
          ]
        }
      ],
      "source": [
        "# Adding gender population\n",
        "dataframe = pd.read_excel(\"/content/Global Terrorism Index 2023.xlsx\")\n",
        "dataframe_gender = pd.read_csv(\"/content/share-population-female.csv\")\n",
        "print(dataframe_gender.head())\n",
        "dataframe_gender.rename(columns={'Entity': 'Country'}, inplace=True)\n",
        "dataframe = dataframe.merge(dataframe_gender, on=['Country', 'Year'], how='left')\n",
        "dataframe = dataframe.drop(columns=['Code'])"
      ]
    },
    {
      "cell_type": "code",
      "source": [
        "# Added Corruption Index\n",
        "dataframe_corruption = pd.read_csv(\"/content/TI-corruption-perception-index.csv\")\n",
        "print(dataframe_corruption.head())\n",
        "dataframe_corruption.rename(columns={'Entity': 'Country'}, inplace=True)\n",
        "dataframe = dataframe.merge(dataframe_corruption, on=['Country', 'Year'], how='left')\n",
        "dataframe = dataframe.drop(columns=['Code'])"
      ],
      "metadata": {
        "colab": {
          "base_uri": "https://localhost:8080/"
        },
        "id": "njuJS8e-8duz",
        "outputId": "a19fec6f-4e86-47da-907a-b0ccbfc5d802"
      },
      "execution_count": null,
      "outputs": [
        {
          "output_type": "stream",
          "name": "stdout",
          "text": [
            "        Entity Code  Year  \\\n",
            "0  Afghanistan  AFG  2012   \n",
            "1  Afghanistan  AFG  2013   \n",
            "2  Afghanistan  AFG  2014   \n",
            "3  Afghanistan  AFG  2015   \n",
            "4  Afghanistan  AFG  2016   \n",
            "\n",
            "   Corruption Perception Index - Transparency International (2018)  \n",
            "0                                                  8                \n",
            "1                                                  8                \n",
            "2                                                 12                \n",
            "3                                                 11                \n",
            "4                                                 15                \n"
          ]
        }
      ]
    },
    {
      "cell_type": "code",
      "source": [
        "#Adding migration information\n",
        "dataframe_migration = pd.read_csv(\"/content/migration.csv\")\n",
        "dataframe_migration = dataframe_migration[[\"Year\", \"Country\", \"Net migration rate\"]]\n",
        "print(dataframe_migration.head())\n",
        "dataframe = dataframe.merge(dataframe_migration, on=['Country', 'Year'], how='left')"
      ],
      "metadata": {
        "colab": {
          "base_uri": "https://localhost:8080/"
        },
        "id": "0_Ejk0uj9Fiy",
        "outputId": "bb153c12-fc18-4031-b9d6-069555ddaa1b"
      },
      "execution_count": null,
      "outputs": [
        {
          "output_type": "stream",
          "name": "stdout",
          "text": [
            "   Year                     Country  Net migration rate\n",
            "0  1955   Central and Southern Asia               0.197\n",
            "1  1960   Central and Southern Asia               0.275\n",
            "2  1965   Central and Southern Asia               0.176\n",
            "3  1970   Central and Southern Asia               0.022\n",
            "4  1975   Central and Southern Asia              -0.285\n"
          ]
        }
      ]
    },
    {
      "cell_type": "code",
      "source": [
        "# Armed Forced Shared Population = Armed forces population /  Total population\n",
        "# Nuclear Weapon status = Number of weapons\n",
        "dataframe_armedforces = pd.read_csv(\"/content/armed-forces-personnel-percent.csv\")\n",
        "print(dataframe_armedforces.head())\n",
        "dataframe_armedforces.rename(columns={'Entity': 'Country'}, inplace=True)\n",
        "dataframe_armedforces = dataframe_armedforces[[\"Country\",\"Year\",\"armed_forces_share_population\"]]\n",
        "dataframe = dataframe.merge(dataframe_armedforces, on=['Country', 'Year'], how='left')\n"
      ],
      "metadata": {
        "colab": {
          "base_uri": "https://localhost:8080/"
        },
        "id": "5bJqGMl6EF8I",
        "outputId": "ececee25-4985-477d-c0c9-ef38face0545"
      },
      "execution_count": null,
      "outputs": [
        {
          "output_type": "stream",
          "name": "stdout",
          "text": [
            "        Entity Code  Year  armed_forces_share_population\n",
            "0  Afghanistan  AFG  1985                       0.393694\n",
            "1  Afghanistan  AFG  1989                       0.463397\n",
            "2  Afghanistan  AFG  1990                       0.467278\n",
            "3  Afghanistan  AFG  1991                       0.338371\n",
            "4  Afghanistan  AFG  1992                       0.310655\n"
          ]
        }
      ]
    },
    {
      "cell_type": "code",
      "source": [
        "dataframe_nuclearweapons = pd.read_csv(\"/content/country-position-nuclear-weapons.csv\")\n",
        "print(dataframe_nuclearweapons.head())\n",
        "dataframe_nuclearweapons.rename(columns={'Entity': 'Country'}, inplace=True)\n",
        "dataframe_nuclearweapons = dataframe_nuclearweapons[[\"Country\",\"Year\",\"nuclear_weapons_status\"]]\n",
        "dataframe = dataframe.merge(dataframe_nuclearweapons, on=['Country', 'Year'], how='left')"
      ],
      "metadata": {
        "colab": {
          "base_uri": "https://localhost:8080/"
        },
        "id": "Vw0W6YKBOHfW",
        "outputId": "aa4f5a26-2cad-4452-f474-5fe89d9a2dde"
      },
      "execution_count": null,
      "outputs": [
        {
          "output_type": "stream",
          "name": "stdout",
          "text": [
            "     Entity      Code  Year  nuclear_weapons_status\n",
            "0  Abkhazia  OWID_ABK  1938                       0\n",
            "1  Abkhazia  OWID_ABK  1939                       0\n",
            "2  Abkhazia  OWID_ABK  1940                       0\n",
            "3  Abkhazia  OWID_ABK  1941                       0\n",
            "4  Abkhazia  OWID_ABK  1942                       0\n"
          ]
        }
      ]
    },
    {
      "cell_type": "code",
      "source": [
        "dataframe_literacy = pd.read_csv(\"/content/cross-country-literacy-rates.csv\")\n",
        "print(dataframe_literacy.head())\n",
        "dataframe_literacy.rename(columns={'Entity': 'Country'}, inplace=True)\n",
        "dataframe_literacy = dataframe_literacy.drop(columns=['Code'])\n",
        "dataframe = dataframe.merge(dataframe_literacy, on=['Country', 'Year'], how='left')\n"
      ],
      "metadata": {
        "colab": {
          "base_uri": "https://localhost:8080/"
        },
        "id": "YopE14PFOASz",
        "outputId": "e9c2d5cd-06d3-4371-a323-cb52e8bbe851"
      },
      "execution_count": null,
      "outputs": [
        {
          "output_type": "stream",
          "name": "stdout",
          "text": [
            "        Entity Code  Year  \\\n",
            "0  Afghanistan  AFG  1979   \n",
            "1  Afghanistan  AFG  2011   \n",
            "2  Afghanistan  AFG  2015   \n",
            "3      Albania  ALB  2001   \n",
            "4      Albania  ALB  2008   \n",
            "\n",
            "   Literacy rates (World Bank, CIA World Factbook, and other sources)  \n",
            "0                                          18.157681                   \n",
            "1                                          31.741119                   \n",
            "2                                          38.168041                   \n",
            "3                                          98.712982                   \n",
            "4                                          95.938637                   \n"
          ]
        }
      ]
    },
    {
      "cell_type": "code",
      "source": [
        "dataframe_military = pd.read_csv(\"/content/military-expenditure-total.csv\")\n",
        "print(dataframe_military)\n",
        "dataframe_military.rename(columns={'Entity': 'Country'}, inplace=True)\n",
        "dataframe_military = dataframe_military.drop(columns=['Code'])\n",
        "dataframe = dataframe.merge(dataframe_military, on=['Country', 'Year'], how='left')\n",
        "def scientific_to_decimal(value):\n",
        "    return '{:.10f}'.format(float(value))\n",
        "dataframe['military_expenditure'] = dataframe['military_expenditure'].apply(scientific_to_decimal)\n",
        "\n",
        "print(dataframe)"
      ],
      "metadata": {
        "colab": {
          "base_uri": "https://localhost:8080/"
        },
        "id": "cY3RAvJLVlyM",
        "outputId": "e22ef656-9f8a-4490-c085-aae45e2496c6"
      },
      "execution_count": null,
      "outputs": [
        {
          "output_type": "stream",
          "name": "stdout",
          "text": [
            "           Entity Code  Year  military_expenditure\n",
            "0     Afghanistan  AFG  1970               5373185\n",
            "1     Afghanistan  AFG  1973               6230685\n",
            "2     Afghanistan  AFG  1974               6056124\n",
            "3     Afghanistan  AFG  1975               6357396\n",
            "4     Afghanistan  AFG  1976               8108200\n",
            "...           ...  ...   ...                   ...\n",
            "8273     Zimbabwe  ZWE  2015            1083475614\n",
            "8274     Zimbabwe  ZWE  2016            1046329810\n",
            "8275     Zimbabwe  ZWE  2017             986095198\n",
            "8276     Zimbabwe  ZWE  2018            1100563838\n",
            "8277     Zimbabwe  ZWE  2019             546939000\n",
            "\n",
            "[8278 rows x 4 columns]\n",
            "     iso3c              Country  Rank     Score  Incidents  Fatalities  \\\n",
            "0      IRQ                 Iraq     1  9.599967       1288        2086   \n",
            "1      PAK             Pakistan     2  9.152620        638        1322   \n",
            "2      AFG          Afghanistan     3  9.134265        507        1511   \n",
            "3      SYR                Syria     4  8.238079        168        1014   \n",
            "4      YEM                Yemen     5  8.098513        219         651   \n",
            "...    ...                  ...   ...       ...        ...         ...   \n",
            "1788   TKM         Turkmenistan    93  0.000000          0           0   \n",
            "1789   TLS          Timor-Leste    93  0.000000          0           0   \n",
            "1790   TTO  Trinidad and Tobago    93  0.000000          0           0   \n",
            "1791   ZMB               Zambia    93  0.000000          0           0   \n",
            "1792   ZWE             Zimbabwe    93  0.000000          0           0   \n",
            "\n",
            "      Injuries  Hostages  Year  Population, female (% of total population)  \\\n",
            "0         5050        16  2012                                   50.181076   \n",
            "1         2297       160  2012                                   48.650360   \n",
            "2         2612        67  2012                                   49.455578   \n",
            "3         1833        71  2012                                   49.544518   \n",
            "4          798       121  2012                                   49.384468   \n",
            "...        ...       ...   ...                                         ...   \n",
            "1788         0         0  2022                                         NaN   \n",
            "1789         0         0  2022                                         NaN   \n",
            "1790         0         0  2022                                         NaN   \n",
            "1791         0         0  2022                                         NaN   \n",
            "1792         0         0  2022                                         NaN   \n",
            "\n",
            "      Corruption Perception Index - Transparency International (2018)  \\\n",
            "0                                                  18.0                 \n",
            "1                                                  27.0                 \n",
            "2                                                   8.0                 \n",
            "3                                                  26.0                 \n",
            "4                                                  23.0                 \n",
            "...                                                 ...                 \n",
            "1788                                                NaN                 \n",
            "1789                                                NaN                 \n",
            "1790                                                NaN                 \n",
            "1791                                                NaN                 \n",
            "1792                                                NaN                 \n",
            "\n",
            "      Net migration rate  armed_forces_share_population  \\\n",
            "0                    NaN                       2.516148   \n",
            "1                    NaN                       0.506087   \n",
            "2                    NaN                       1.085157   \n",
            "3                    NaN                       0.870890   \n",
            "4                    NaN                       0.563474   \n",
            "...                  ...                            ...   \n",
            "1788                 NaN                            NaN   \n",
            "1789                 NaN                            NaN   \n",
            "1790                 NaN                            NaN   \n",
            "1791                 NaN                            NaN   \n",
            "1792                 NaN                            NaN   \n",
            "\n",
            "      nuclear_weapons_status  \\\n",
            "0                        0.0   \n",
            "1                        3.0   \n",
            "2                        0.0   \n",
            "3                        1.0   \n",
            "4                        0.0   \n",
            "...                      ...   \n",
            "1788                     0.0   \n",
            "1789                     NaN   \n",
            "1790                     0.0   \n",
            "1791                     0.0   \n",
            "1792                     0.0   \n",
            "\n",
            "      Literacy rates (World Bank, CIA World Factbook, and other sources)  \\\n",
            "0                                                   NaN                    \n",
            "1                                             56.764339                    \n",
            "2                                                   NaN                    \n",
            "3                                                   NaN                    \n",
            "4                                                   NaN                    \n",
            "...                                                 ...                    \n",
            "1788                                                NaN                    \n",
            "1789                                                NaN                    \n",
            "1790                                                NaN                    \n",
            "1791                                                NaN                    \n",
            "1792                                                NaN                    \n",
            "\n",
            "       military_expenditure  \n",
            "0     4318223308.0000000000  \n",
            "1     6907272813.0000000000  \n",
            "2      196427762.0000000000  \n",
            "3                       nan  \n",
            "4     3167406140.0000000000  \n",
            "...                     ...  \n",
            "1788                    nan  \n",
            "1789                    nan  \n",
            "1790                    nan  \n",
            "1791                    nan  \n",
            "1792                    nan  \n",
            "\n",
            "[1793 rows x 16 columns]\n"
          ]
        }
      ]
    },
    {
      "cell_type": "code",
      "source": [
        "dataframe_economic_inequality = pd.read_csv(\"/content/economic-inequality-gini-index.csv\")\n",
        "print(dataframe_economic_inequality.head())\n",
        "dataframe_economic_inequality.rename(columns={'Entity': 'Country'}, inplace=True)\n",
        "dataframe_economic_inequality = dataframe_economic_inequality.drop(columns=['Code'])\n",
        "dataframe = dataframe.merge(dataframe_economic_inequality, on=['Country', 'Year'], how='left')"
      ],
      "metadata": {
        "colab": {
          "base_uri": "https://localhost:8080/"
        },
        "id": "uCZcnbMMWHRF",
        "outputId": "a32fbbee-5f92-42e5-c673-5f42f730edfb"
      },
      "execution_count": null,
      "outputs": [
        {
          "output_type": "stream",
          "name": "stdout",
          "text": [
            "    Entity Code  Year  Gini coefficient\n",
            "0  Albania  ALB  1996          0.270103\n",
            "1  Albania  ALB  2002          0.317390\n",
            "2  Albania  ALB  2005          0.305957\n",
            "3  Albania  ALB  2008          0.299847\n",
            "4  Albania  ALB  2012          0.289605\n"
          ]
        }
      ]
    },
    {
      "cell_type": "code",
      "source": [
        "dataframe_govtexp_education = pd.read_csv(\"/content/government-expenditure-on-education-for-selected-countries.csv\")\n",
        "print(dataframe_govtexp_education.head())\n",
        "dataframe_govtexp_education.rename(columns={'Entity': 'Country'}, inplace=True)\n",
        "dataframe_govtexp_education = dataframe_govtexp_education.drop(columns=['Code'])\n",
        "dataframe = dataframe.merge(dataframe_govtexp_education, on=['Country', 'Year'], how='left')"
      ],
      "metadata": {
        "colab": {
          "base_uri": "https://localhost:8080/"
        },
        "id": "9oCdx5r8pkV7",
        "outputId": "17b463ef-a021-42fd-b04b-5acfbbe82e6b"
      },
      "execution_count": null,
      "outputs": [
        {
          "output_type": "stream",
          "name": "stdout",
          "text": [
            "      Entity Code  Year  \\\n",
            "0  Argentina  ARG  1960   \n",
            "1  Argentina  ARG  1965   \n",
            "2  Argentina  ARG  1970   \n",
            "3  Argentina  ARG  1980   \n",
            "4  Argentina  ARG  1990   \n",
            "\n",
            "  Government Education Expenditure 1960-2010 (Szirmai (2015))  \n",
            "0                                                  2           \n",
            "1                                                  3           \n",
            "2                                                2.5           \n",
            "3                                                2.7           \n",
            "4                                                3.4           \n"
          ]
        }
      ]
    },
    {
      "cell_type": "code",
      "source": [
        "dataframe_publicexp_health = pd.read_csv(\"/content/public-health-expenditure-share-GDP-OWID.csv\")\n",
        "print(dataframe_publicexp_health.head())\n",
        "dataframe_publicexp_health.rename(columns={'Entity': 'Country'}, inplace=True)\n",
        "dataframe_publicexp_health = dataframe_publicexp_health.drop(columns=['Code'])\n",
        "dataframe = dataframe.merge(dataframe_publicexp_health, on=['Country', 'Year'], how='left')\n",
        "dataframe.to_excel(\"/content/Global Terrorism Index 2023.xlsx\")"
      ],
      "metadata": {
        "colab": {
          "base_uri": "https://localhost:8080/"
        },
        "id": "lfTZLdAbpzi2",
        "outputId": "7abc9aae-5834-42e3-db07-3c024a70b206"
      },
      "execution_count": null,
      "outputs": [
        {
          "output_type": "stream",
          "name": "stdout",
          "text": [
            "    Entity Code  Year  public_health_expenditure_pc_gdp\n",
            "0  Albania  ALB  2010                             2.442\n",
            "1  Albania  ALB  2011                             2.387\n",
            "2  Albania  ALB  2012                             2.474\n",
            "3  Albania  ALB  2013                             2.605\n",
            "4  Albania  ALB  2014                             2.617\n"
          ]
        }
      ]
    },
    {
      "cell_type": "code",
      "source": [
        "dataframe_humanrightsindex = pd.read_csv(\"/content/human-rights-index-vdem.csv\")\n",
        "print(dataframe_humanrightsindex.head())\n",
        "dataframe_humanrightsindex.rename(columns={'Entity': 'Country'}, inplace=True)\n",
        "dataframe_humanrightsindex = dataframe_humanrightsindex.drop(columns=['Code','civ_libs_vdem_high_owid','civ_libs_vdem_low_owid'])\n",
        "dataframe = dataframe.merge(dataframe_humanrightsindex, on=['Country', 'Year'], how='left')\n",
        "dataframe.to_excel(\"/content/Global Terrorism Index 2023.xlsx\")"
      ],
      "metadata": {
        "colab": {
          "base_uri": "https://localhost:8080/"
        },
        "id": "nic2nCZqtKgu",
        "outputId": "a1542ab5-5667-4483-ea8b-e108b8d6e821"
      },
      "execution_count": null,
      "outputs": [
        {
          "output_type": "stream",
          "name": "stdout",
          "text": [
            "        Entity Code  Year  civ_libs_vdem_owid  civ_libs_vdem_high_owid  \\\n",
            "0  Afghanistan  AFG  1789               0.125                    0.169   \n",
            "1  Afghanistan  AFG  1790               0.125                    0.169   \n",
            "2  Afghanistan  AFG  1791               0.125                    0.169   \n",
            "3  Afghanistan  AFG  1792               0.125                    0.169   \n",
            "4  Afghanistan  AFG  1793               0.125                    0.169   \n",
            "\n",
            "   civ_libs_vdem_low_owid  \n",
            "0                   0.089  \n",
            "1                   0.089  \n",
            "2                   0.089  \n",
            "3                   0.089  \n",
            "4                   0.089  \n"
          ]
        }
      ]
    },
    {
      "cell_type": "code",
      "source": [
        "dataframe_deathsinconflicts = pd.read_csv(\"/content/deaths-in-armed-conflicts-by-region.csv\")\n",
        "dataframe_deathsinconflicts = dataframe_deathsinconflicts.drop(columns=['Code'])\n",
        "dataframe_deathsinconflicts.rename(columns={'Entity': 'Country'}, inplace=True)\n",
        "dataframe = dataframe.merge(dataframe_deathsinconflicts, on=['Country', 'Year'], how='left')\n",
        "dataframe.to_excel(\"/content/Global Terrorism Index 2023.xlsx\")"
      ],
      "metadata": {
        "id": "iRrTyW87uWXP"
      },
      "execution_count": null,
      "outputs": []
    },
    {
      "cell_type": "code",
      "source": [
        "dataframe_electoraldemocracy = pd.read_csv(\"/content/electoral-democracy-index.csv\")\n",
        "dataframe_electoraldemocracy.rename(columns={'Entity': 'Country'}, inplace=True)\n",
        "dataframe_electoraldemocracy.rename(columns={'electdem_vdem_owid': 'Electoral_Democracy_Index'}, inplace=True)\n",
        "dataframe_electoraldemocracy = dataframe_electoraldemocracy.drop(columns=['Code','electdem_vdem_high_owid','electdem_vdem_low_owid'])\n",
        "dataframe = dataframe.merge(dataframe_electoraldemocracy, on=['Country', 'Year'], how='left')\n",
        "dataframe.to_excel(\"/content/Global Terrorism Index 2023.xlsx\")"
      ],
      "metadata": {
        "id": "o1FRQ1TKvIXr"
      },
      "execution_count": null,
      "outputs": []
    },
    {
      "cell_type": "code",
      "source": [
        "dataframe_human_dev_index = pd.read_csv(\"/content/human-development-index.csv\")\n",
        "print(dataframe_human_dev_index.head())\n",
        "dataframe_human_dev_index.rename(columns={'Entity': 'Country'}, inplace=True)\n",
        "dataframe_human_dev_index = dataframe_human_dev_index.drop(columns=['Code'])\n",
        "dataframe = dataframe.merge(dataframe_human_dev_index, on=['Country', 'Year'], how='left')\n",
        "dataframe.to_excel(\"/content/Global Terrorism Index 2023.xlsx\")"
      ],
      "metadata": {
        "colab": {
          "base_uri": "https://localhost:8080/"
        },
        "id": "HJO3AF6_xYuo",
        "outputId": "52c1c643-e2a8-4357-f2ea-be2a9a6abd30"
      },
      "execution_count": null,
      "outputs": [
        {
          "output_type": "stream",
          "name": "stdout",
          "text": [
            "        Entity Code  Year  Human Development Index\n",
            "0  Afghanistan  AFG  1990                    0.273\n",
            "1  Afghanistan  AFG  1991                    0.279\n",
            "2  Afghanistan  AFG  1992                    0.287\n",
            "3  Afghanistan  AFG  1993                    0.297\n",
            "4  Afghanistan  AFG  1994                    0.292\n"
          ]
        }
      ]
    },
    {
      "cell_type": "code",
      "source": [
        "dataframe_researchspending = pd.read_csv(\"/content/research-spending-gdp.csv\")\n",
        "print(dataframe_researchspending.head())\n",
        "dataframe_researchspending.rename(columns={'Entity': 'Country'}, inplace=True)\n",
        "dataframe_researchspending = dataframe_researchspending.drop(columns=['Code'])\n",
        "dataframe = dataframe.merge(dataframe_researchspending, on=['Country', 'Year'], how='left')\n",
        "dataframe.to_excel(\"/content/Global Terrorism Index 2023.xlsx\")"
      ],
      "metadata": {
        "colab": {
          "base_uri": "https://localhost:8080/"
        },
        "id": "CDbfroke1Q5B",
        "outputId": "bdec1ae8-f576-4eb0-abf8-97469a25cf8e"
      },
      "execution_count": null,
      "outputs": [
        {
          "output_type": "stream",
          "name": "stdout",
          "text": [
            "    Entity Code  Year  Research and development expenditure (% of GDP)\n",
            "0  Albania  ALB  2007                                          0.08757\n",
            "1  Albania  ALB  2008                                          0.15412\n",
            "2  Algeria  DZA  2001                                          0.23028\n",
            "3  Algeria  DZA  2002                                          0.36640\n",
            "4  Algeria  DZA  2003                                          0.19623\n"
          ]
        }
      ]
    },
    {
      "cell_type": "code",
      "source": [
        "dataframe_urbanruralpop = pd.read_csv(\"/content/urban-and-rural-population.csv\")\n",
        "print(dataframe_urbanruralpop.head())\n",
        "dataframe_urbanruralpop.rename(columns={'Entity': 'Country'}, inplace=True)\n",
        "dataframe_urbanruralpop = dataframe_urbanruralpop.drop(columns=['Code'])\n",
        "dataframe = dataframe.merge(dataframe_urbanruralpop, on=['Country', 'Year'], how='left')\n",
        "dataframe.to_excel(\"/content/Global Terrorism Index 2023.xlsx\")"
      ],
      "metadata": {
        "colab": {
          "base_uri": "https://localhost:8080/"
        },
        "id": "wSKzSM3G20YD",
        "outputId": "48f6def4-c643-4b84-a1f8-4a3df8dcc9e5"
      },
      "execution_count": null,
      "outputs": [
        {
          "output_type": "stream",
          "name": "stdout",
          "text": [
            "        Entity Code  Year  Urban population  Rural population\n",
            "0  Afghanistan  AFG  1960            724373         7898093.0\n",
            "1  Afghanistan  AFG  1961            763336         8026804.0\n",
            "2  Afghanistan  AFG  1962            805062         8163985.0\n",
            "3  Afghanistan  AFG  1963            849446         8308019.0\n",
            "4  Afghanistan  AFG  1964            896820         8458694.0\n"
          ]
        }
      ]
    }
  ]
}